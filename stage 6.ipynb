{
 "cells": [
  {
   "cell_type": "markdown",
   "id": "2275aded",
   "metadata": {},
   "source": [
    "단계 6 - 심화 1"
   ]
  },
  {
   "cell_type": "code",
   "execution_count": null,
   "id": "00904cf3",
   "metadata": {},
   "outputs": [],
   "source": [
    "#  25206 너의 평점은\n",
    "\n",
    "score = 0\n",
    "time = 0\n",
    "grades = {\n",
    "    \"A+\": 4.5,\n",
    "    \"A0\": 4.0,\n",
    "    \"B+\": 3.5,\n",
    "    \"B0\": 3.0,\n",
    "    \"C+\": 2.5,\n",
    "    \"C0\": 2.0,\n",
    "    \"D+\": 1.5,\n",
    "    \"D0\": 1.0,\n",
    "    \"F\":  0.0 }\n",
    "\n",
    "for _ in range(20):\n",
    "    inp = input().split(' ')\n",
    "    if (inp[2] == \"P\"): continue\n",
    "    \n",
    "    score += float(inp[1]) * grades[inp[2]]\n",
    "    time += float(inp[1])\n",
    "    \n",
    "print(score / time)"
   ]
  },
  {
   "cell_type": "markdown",
   "id": "a4082efe",
   "metadata": {},
   "source": [
    "C 언어\n",
    "```  c\n",
    "#define _CRT_SECURE_NO_WARNINGS\n",
    "#include <stdio.h>\n",
    "#include <stdlib.h>\n",
    "#include <string.h>\n",
    "\n",
    "double calGrade(char* grade) {\n",
    "\tif (!strcmp(grade, \"A+\")) return 4.5;\n",
    "\tif (!strcmp(grade, \"A0\")) return 4.0;\n",
    "\tif (!strcmp(grade, \"B+\")) return 3.5;\n",
    "\tif (!strcmp(grade, \"B0\")) return 3.0;\n",
    "\tif (!strcmp(grade, \"C+\")) return 2.5;\n",
    "\tif (!strcmp(grade, \"C0\")) return 2.0;\n",
    "\tif (!strcmp(grade, \"D+\")) return 1.5;\n",
    "\tif (!strcmp(grade, \"D0\")) return 1.0;\n",
    "\tif (!strcmp(grade, \"F\"))  return 0.0;\n",
    "}\n",
    "\n",
    "int main(void) {\n",
    "\tchar subject[60];\n",
    "\tchar grade[10];\n",
    "\tdouble inp = 0.0;\n",
    "\n",
    "\tdouble divNum = 0.0;\n",
    "\tdouble result = 0.0;\n",
    "\n",
    "\tfor (int i = 0; i < 3; i++) {\n",
    "\t\tscanf(\"%s %lf %s\", subject, &inp, grade);\n",
    "\t\tif (!strcmp(grade,\"P\")) continue;\n",
    "\n",
    "\t\tresult += inp * calGrade(grade);\n",
    "\t\tdivNum += inp;\n",
    "\t}\n",
    "\n",
    "\tprintf(\"%.6f\", result / divNum);\n",
    "\treturn 0;\n",
    "}\n",
    "```"
   ]
  },
  {
   "cell_type": "code",
   "execution_count": null,
   "id": "d07ae1b0",
   "metadata": {},
   "outputs": [],
   "source": []
  }
 ],
 "metadata": {
  "kernelspec": {
   "display_name": "Python 3 (ipykernel)",
   "language": "python",
   "name": "python3"
  },
  "language_info": {
   "codemirror_mode": {
    "name": "ipython",
    "version": 3
   },
   "file_extension": ".py",
   "mimetype": "text/x-python",
   "name": "python",
   "nbconvert_exporter": "python",
   "pygments_lexer": "ipython3",
   "version": "3.9.13"
  }
 },
 "nbformat": 4,
 "nbformat_minor": 5
}
