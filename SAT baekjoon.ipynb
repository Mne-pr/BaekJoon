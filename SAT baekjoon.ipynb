{
 "cells": [
  {
   "cell_type": "code",
   "execution_count": null,
   "id": "dcf44a9f",
   "metadata": {},
   "outputs": [],
   "source": [
    "# 20920 영단어 암기는 괴로워\n",
    "\n",
    "N,M = list(map(int, input().split(' ')))\n",
    "\n",
    "ans = {}\n",
    "\n",
    "for i in range(N):\n",
    "    word = input()\n",
    "    if len(word) < M:\n",
    "        continue\n",
    "    if (word not in ans):\n",
    "        ans[word]=0\n",
    "    ans[word] += 1\n",
    "\n",
    "answer = sorted(ans.keys(), key=lambda x: (-ans[x], -len(x), x))\n",
    "for i in answer:\n",
    "    print(i)\n"
   ]
  },
  {
   "cell_type": "code",
   "execution_count": null,
   "id": "30780a08",
   "metadata": {
    "scrolled": true
   },
   "outputs": [],
   "source": [
    "# 2607 비슷한 단어\n",
    "\n",
    "N = int(input())\n",
    "\n",
    "match = 0\n",
    "target = [0]\n",
    "\n",
    "# 첫 단어 받아서 정리\n",
    "word = input()\n",
    "\n",
    "\n",
    "# 나머지 단어에 대해\n",
    "for i in range(N):\n",
    "    word = input()\n",
    "\n",
    "# 일단 글자 수 거름\n",
    "    \n",
    "# 거른 것은 카운터로 상태를 만들어냄\n",
    "    wordDic = {}\n",
    "    for char in word:\n",
    "        if char not in wordDic:\n",
    "            wordDic[char] = 0\n",
    "        wordDic[char] += 1\n",
    "    listDic = sorted(wordDic.items())\n",
    "    n_listDic = listDic.copy()\n",
    "            \n",
    "# 조건 만족하는 경우 match 1 증가\n",
    "        \n",
    "print(match)\n",
    "            "
   ]
  },
  {
   "cell_type": "code",
   "execution_count": null,
   "id": "19778323",
   "metadata": {},
   "outputs": [],
   "source": [
    "# 2870 수학숙제\n",
    "\n",
    "count = 0\n",
    "res = []\n",
    "\n",
    "# 횟수 입력받음\n",
    "N = int(input())\n",
    "\n",
    "# 반복문으로 횟수만큼 단어 입력받음\n",
    "for _ in range(N):\n",
    "    i = list(input())\n",
    "    \n",
    "    # 각 문자가 숫자인지 확인함\n",
    "    for j in range(len(i)):\n",
    "        if (not i[j].isdigit()):\n",
    "            i[j]=' '\n",
    "     \n",
    "    # 결과에 해당 단어들을 넣음\n",
    "    res.extend(''.join(i).split())\n",
    "\n",
    "# 정수 기준으로 정렬\n",
    "res.sort(key=lambda x : int(x))\n",
    "\n",
    "# 출력\n",
    "for i in res:\n",
    "    print(int(i))"
   ]
  },
  {
   "cell_type": "code",
   "execution_count": 2,
   "id": "607eeb08",
   "metadata": {},
   "outputs": [
    {
     "name": "stdout",
     "output_type": "stream",
     "text": [
      "5\n",
      "OOXXOXXOOO\n",
      "OOXXOOXXOO\n",
      "OXOXOXOXOXOXOX\n",
      "OOOOOOOOOO\n",
      "OOOOXOOOOXOOOOX\n",
      "10\n",
      "9\n",
      "7\n",
      "55\n",
      "30\n"
     ]
    }
   ],
   "source": [
    "# 8958 OX 퀴즈\n",
    "\n",
    "N = int(input())\n",
    "res = []\n",
    "\n",
    "for i in range(N):\n",
    "    inp = input()\n",
    "    cur = 1\n",
    "    res.append(0)\n",
    "    for j in inp:\n",
    "        if (j == 'O'):\n",
    "            res[i] += cur\n",
    "            cur += 1\n",
    "        else:\n",
    "            cur = 1\n",
    "#    print(res[i])\n",
    "\n",
    "for i in res:\n",
    "    print(i)"
   ]
  },
  {
   "cell_type": "code",
   "execution_count": null,
   "id": "a88757ac",
   "metadata": {},
   "outputs": [],
   "source": []
  }
 ],
 "metadata": {
  "kernelspec": {
   "display_name": "Python 3 (ipykernel)",
   "language": "python",
   "name": "python3"
  },
  "language_info": {
   "codemirror_mode": {
    "name": "ipython",
    "version": 3
   },
   "file_extension": ".py",
   "mimetype": "text/x-python",
   "name": "python",
   "nbconvert_exporter": "python",
   "pygments_lexer": "ipython3",
   "version": "3.9.13"
  }
 },
 "nbformat": 4,
 "nbformat_minor": 5
}
