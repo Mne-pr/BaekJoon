{
 "cells": [
  {
   "cell_type": "markdown",
   "id": "248c9203",
   "metadata": {},
   "source": [
    "7 단계 2차원 배열"
   ]
  },
  {
   "cell_type": "code",
   "execution_count": null,
   "id": "0322480d-da36-4370-a18c-1acaf6f91d9e",
   "metadata": {},
   "outputs": [],
   "source": [
    "## 2738 행렬 덧셈\n",
    "\n",
    "inp = []\n",
    "size = list(map(int, input().split(' ')))\n",
    "\n",
    "for i in range(size[0]*2):\n",
    "    if (i >= size[0]):\n",
    "        l = list(map(int,input().split()))\n",
    "        inp[i%size[0]] = [a+b for a,b in zip(inp[i%size[0]],l)]\n",
    "    else:\n",
    "        inp.append(list(map(int, input().split(' '))))\n",
    "    \n",
    "for i in range(size[0]):\n",
    "    for j in range(size[1]):\n",
    "        print(inp[i][j], end=' ')\n",
    "    print()"
   ]
  },
  {
   "cell_type": "code",
   "execution_count": null,
   "id": "e8d85c1f",
   "metadata": {},
   "outputs": [],
   "source": [
    "# 2566 최댓값\n",
    "\n",
    "xy = [1,1]\n",
    "val = 0\n",
    "\n",
    "for i in range(9):\n",
    "    values = list(map(int, input().split()))\n",
    "    m = max(values)\n",
    "    if (val < m):\n",
    "        val = m\n",
    "        xy[0] = values.index(m) + 1\n",
    "        xy[1] = i + 1\n",
    "\n",
    "print(val)\n",
    "print(str(xy[1])+' '+str(xy[0]))"
   ]
  },
  {
   "cell_type": "code",
   "execution_count": null,
   "id": "e8451365-6ff0-4c58-b9f7-f779e5626797",
   "metadata": {},
   "outputs": [],
   "source": [
    "# 10798 세로읽기\n",
    "\n",
    "texts = []\n",
    "maxlen = 0\n",
    "\n",
    "for i in range(5):\n",
    "    texts.append( list(input()) )\n",
    "    l = len(texts[i])\n",
    "    if (maxlen < l):\n",
    "        maxlen = l\n",
    "        \n",
    "for i in range(maxlen):\n",
    "    for j in range(5):\n",
    "        try:\n",
    "            print(texts[j][i], end='')\n",
    "        except:\n",
    "           continue\n",
    "    "
   ]
  },
  {
   "cell_type": "code",
   "execution_count": null,
   "id": "df61ff0c-2a9b-480d-a0b8-fd8fc017b03c",
   "metadata": {},
   "outputs": [],
   "source": [
    "# 2563 색종이\n",
    "inp = int(input())\n",
    "\n",
    "paper = [[0] * 100 for _ in range(100)]\n",
    "res = 0\n",
    "\n",
    "for _ in range(inp):\n",
    "    x,y = list(map(int,input().split()))\n",
    "    \n",
    "    for i in range(y, y+10):\n",
    "        for j in range(x, x+10):\n",
    "            paper[i][j] = 1\n",
    "    \n",
    "for i in range(100):\n",
    "    for j in range(100):\n",
    "        res += paper[i][j]\n",
    "\n",
    "print(res)\n"
   ]
  }
 ],
 "metadata": {
  "kernelspec": {
   "display_name": "Python 3 (ipykernel)",
   "language": "python",
   "name": "python3"
  },
  "language_info": {
   "codemirror_mode": {
    "name": "ipython",
    "version": 3
   },
   "file_extension": ".py",
   "mimetype": "text/x-python",
   "name": "python",
   "nbconvert_exporter": "python",
   "pygments_lexer": "ipython3",
   "version": "3.9.18"
  }
 },
 "nbformat": 4,
 "nbformat_minor": 5
}
