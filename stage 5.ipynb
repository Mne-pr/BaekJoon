{
 "cells": [
  {
   "cell_type": "markdown",
   "id": "9aaf6726",
   "metadata": {},
   "source": [
    "5 단계 문자열"
   ]
  },
  {
   "cell_type": "code",
   "execution_count": 6,
   "id": "2171596a",
   "metadata": {},
   "outputs": [
    {
     "name": "stdout",
     "output_type": "stream",
     "text": [
      "shiftpsh\n",
      "6\n",
      "p\n"
     ]
    }
   ],
   "source": [
    "# 27866 문자와 문자열\n",
    "\n",
    "text = input()\n",
    "num = int(input())\n",
    "\n",
    "print(text[num-1])"
   ]
  },
  {
   "cell_type": "code",
   "execution_count": 7,
   "id": "90823ad4",
   "metadata": {},
   "outputs": [
    {
     "name": "stdout",
     "output_type": "stream",
     "text": [
      "asdfasdf\n",
      "8\n"
     ]
    }
   ],
   "source": [
    "#  2743 단어 길이 재기\n",
    "\n",
    "print(len(input()))"
   ]
  },
  {
   "cell_type": "code",
   "execution_count": 8,
   "id": "95d5ec80",
   "metadata": {},
   "outputs": [
    {
     "name": "stdout",
     "output_type": "stream",
     "text": [
      "3\n",
      "asdffdsa\n",
      "aa\n",
      "fdfdssfsfas\n",
      "fs\n",
      "sdadfafaffsa\n",
      "sa\n"
     ]
    }
   ],
   "source": [
    "# 9086 문자열\n",
    "\n",
    "num = int(input())\n",
    "\n",
    "for _ in range(num):\n",
    "    text = input()\n",
    "    print(text[0]+text[-1])"
   ]
  },
  {
   "cell_type": "code",
   "execution_count": 13,
   "id": "05d59154",
   "metadata": {},
   "outputs": [
    {
     "name": "stdout",
     "output_type": "stream",
     "text": [
      "0\n",
      "48\n"
     ]
    }
   ],
   "source": [
    "# 11654 아스키 코드\n",
    "\n",
    "num = input()\n",
    "print(ord(num))"
   ]
  },
  {
   "cell_type": "code",
   "execution_count": 17,
   "id": "252927ad",
   "metadata": {},
   "outputs": [
    {
     "name": "stdout",
     "output_type": "stream",
     "text": [
      "5\n",
      "12312\n",
      "9\n"
     ]
    }
   ],
   "source": [
    "# 11720 숫자의 합\n",
    "\n",
    "num = int(input())\n",
    "\n",
    "lis = input()\n",
    "res = 0\n",
    "\n",
    "for i in lis:\n",
    "    res += int(i)\n",
    "    \n",
    "print(res)\n",
    "    "
   ]
  },
  {
   "cell_type": "code",
   "execution_count": 23,
   "id": "383cb5ea",
   "metadata": {},
   "outputs": [
    {
     "name": "stdout",
     "output_type": "stream",
     "text": [
      "baekjoon\n",
      "1 0 -1 -1 2 -1 -1 -1 -1 4 3 -1 -1 7 5 -1 -1 -1 -1 -1 -1 -1 -1 -1 -1 -1 "
     ]
    }
   ],
   "source": [
    "# 10809 알파벳 찾기\n",
    "\n",
    "alpha = [-1]*26\n",
    "\n",
    "text = input()\n",
    "for i in range(len(text)):\n",
    "    if ( alpha[ord(text[i]) - ord('a')] == -1):\n",
    "        alpha[ord(text[i])-ord('a')] = i\n",
    "              \n",
    "for i in alpha:\n",
    "    print(i,end=\" \")"
   ]
  },
  {
   "cell_type": "code",
   "execution_count": 27,
   "id": "def65e84",
   "metadata": {},
   "outputs": [
    {
     "name": "stdout",
     "output_type": "stream",
     "text": [
      "2\n",
      "3 ABC\n",
      "AAABBBCCC\n",
      "5 /HTP\n",
      "/////HHHHHTTTTTPPPPP\n"
     ]
    }
   ],
   "source": [
    "# 2675 문자열 반복\n",
    "\n",
    "num = int(input())\n",
    "\n",
    "for i in range(num):\n",
    "    lis = input().split(' ')\n",
    "    \n",
    "    for char in lis[1]:\n",
    "        print(char*int(lis[0]),end='')\n",
    "    print()"
   ]
  },
  {
   "cell_type": "code",
   "execution_count": 37,
   "id": "84346c2e",
   "metadata": {},
   "outputs": [
    {
     "name": "stdout",
     "output_type": "stream",
     "text": [
      "221 231\n",
      "132\n"
     ]
    }
   ],
   "source": [
    "# 2908 상수\n",
    "\n",
    "lis = input().split()\n",
    "\n",
    "lis.sort(key=lambda x: (x[2],x[1],x[0]), reverse=True)\n",
    "\n",
    "print(lis[0][2]+lis[0][1]+lis[0][0])"
   ]
  },
  {
   "cell_type": "code",
   "execution_count": 45,
   "id": "4da24b21",
   "metadata": {},
   "outputs": [
    {
     "name": "stdout",
     "output_type": "stream",
     "text": [
      "UNUCIC\n",
      "36\n"
     ]
    }
   ],
   "source": [
    "# 5622 다이얼\n",
    "timeTable = [[], [], [],\n",
    "             ['A','B','C'],['D','E','F'],['G','H','I'],\n",
    "             ['J','K','L'],['M','N','O'],['P','Q','R','S'],\n",
    "             ['T','U','V'],['W','X','Y','Z']]\n",
    "\n",
    "text = input()\n",
    "res = 0\n",
    "\n",
    "for c in text:\n",
    "    for time in range(len(timeTable)):\n",
    "        if (c in timeTable[time]):\n",
    "            res += time\n",
    "            break\n",
    "print(res)"
   ]
  },
  {
   "cell_type": "code",
   "execution_count": 52,
   "id": "a227cd33",
   "metadata": {},
   "outputs": [
    {
     "name": "stdout",
     "output_type": "stream",
     "text": [
      "wes\n",
      "dfg\n",
      "gwdefs\n",
      "\n",
      "wes\n",
      "dfg\n",
      "gwdefs\n"
     ]
    }
   ],
   "source": [
    "# 11718 그대로 출력하기\n",
    "\n",
    "while 1:\n",
    "    try:\n",
    "        word = input()\n",
    "        print(word)\n",
    "    except:\n",
    "        break\n"
   ]
  },
  {
   "cell_type": "code",
   "execution_count": null,
   "id": "424cb169",
   "metadata": {},
   "outputs": [],
   "source": []
  }
 ],
 "metadata": {
  "kernelspec": {
   "display_name": "Python 3 (ipykernel)",
   "language": "python",
   "name": "python3"
  },
  "language_info": {
   "codemirror_mode": {
    "name": "ipython",
    "version": 3
   },
   "file_extension": ".py",
   "mimetype": "text/x-python",
   "name": "python",
   "nbconvert_exporter": "python",
   "pygments_lexer": "ipython3",
   "version": "3.9.13"
  }
 },
 "nbformat": 4,
 "nbformat_minor": 5
}
